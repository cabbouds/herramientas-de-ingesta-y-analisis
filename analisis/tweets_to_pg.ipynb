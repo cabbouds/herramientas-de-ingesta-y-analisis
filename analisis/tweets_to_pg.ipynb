{
 "cells": [
  {
   "cell_type": "code",
   "execution_count": 1,
   "metadata": {
    "collapsed": false
   },
   "outputs": [],
   "source": [
    "import pyspark\n",
    "sc = pyspark.SparkContext('local[*]')"
   ]
  },
  {
   "cell_type": "code",
   "execution_count": 2,
   "metadata": {
    "collapsed": true
   },
   "outputs": [],
   "source": [
    "sqlContext = pyspark.SQLContext(sc)"
   ]
  },
  {
   "cell_type": "code",
   "execution_count": 3,
   "metadata": {
    "collapsed": false
   },
   "outputs": [
    {
     "name": "stdout",
     "output_type": "stream",
     "text": [
      "Collecting boto\n",
      "  Downloading boto-2.39.0-py2.py3-none-any.whl (1.3MB)\n",
      "\u001b[K    100% |████████████████████████████████| 1.4MB 880kB/s \n",
      "\u001b[?25hInstalling collected packages: boto\n",
      "Successfully installed boto-2.39.0\n",
      "\u001b[33mYou are using pip version 8.1.0, however version 8.1.1 is available.\n",
      "You should consider upgrading via the 'pip install --upgrade pip' command.\u001b[0m\n"
     ]
    }
   ],
   "source": [
    "!pip install boto"
   ]
  },
  {
   "cell_type": "code",
   "execution_count": 4,
   "metadata": {
    "collapsed": false
   },
   "outputs": [
    {
     "name": "stdout",
     "output_type": "stream",
     "text": [
      "download: s3://opi-hdfs/raw/tweets/2016-02-01/tweets.1454284802816.tmp to febrero/2016-02-01/tweets.1454284802816.tmp\n",
      "download: s3://opi-hdfs/raw/tweets/2016-02-01/tweets.1454344813269 to febrero/2016-02-01/tweets.1454344813269\n",
      "download: s3://opi-hdfs/raw/tweets/2016-02-02/tweets.1454371202225.tmp to febrero/2016-02-02/tweets.1454371202225.tmp\n",
      "download: s3://opi-hdfs/raw/tweets/2016-02-02/tweets.1454431212721 to febrero/2016-02-02/tweets.1454431212721\n",
      "download: s3://opi-hdfs/raw/tweets/2016-02-03/tweets.1454457602374.tmp to febrero/2016-02-03/tweets.1454457602374.tmp\n",
      "download: s3://opi-hdfs/raw/tweets/2016-02-03/tweets.1454517613003 to febrero/2016-02-03/tweets.1454517613003\n",
      "download: s3://opi-hdfs/raw/tweets/2016-02-04/tweets.1454544001995.tmp to febrero/2016-02-04/tweets.1454544001995.tmp\n",
      "download: s3://opi-hdfs/raw/tweets/2016-02-04/tweets.1454604012584 to febrero/2016-02-04/tweets.1454604012584\n",
      "download: s3://opi-hdfs/raw/tweets/2016-02-05/tweets.1454630402489.tmp to febrero/2016-02-05/tweets.1454630402489.tmp\n",
      "download: s3://opi-hdfs/raw/tweets/2016-02-05/tweets.1454690412633 to febrero/2016-02-05/tweets.1454690412633\n",
      "download: s3://opi-hdfs/raw/tweets/2016-02-06/tweets.1454716802833 to febrero/2016-02-06/tweets.1454716802833\n",
      "download: s3://opi-hdfs/raw/tweets/2016-02-06/tweets.1454776819089 to febrero/2016-02-06/tweets.1454776819089\n",
      "download: s3://opi-hdfs/raw/tweets/2016-02-07/tweets.1454803202292 to febrero/2016-02-07/tweets.1454803202292\n",
      "download: s3://opi-hdfs/raw/tweets/2016-02-07/tweets.1454863217238 to febrero/2016-02-07/tweets.1454863217238\n",
      "download: s3://opi-hdfs/raw/tweets/2016-02-08/tweets.1454889602021 to febrero/2016-02-08/tweets.1454889602021\n",
      "download: s3://opi-hdfs/raw/tweets/2016-02-08/tweets.1454949619244 to febrero/2016-02-08/tweets.1454949619244\n",
      "download: s3://opi-hdfs/raw/tweets/2016-02-09/tweets.1454976001506 to febrero/2016-02-09/tweets.1454976001506\n",
      "download: s3://opi-hdfs/raw/tweets/2016-02-09/tweets.1455036018628 to febrero/2016-02-09/tweets.1455036018628\n",
      "download: s3://opi-hdfs/raw/tweets/2016-02-10/tweets.1455062401735.tmp to febrero/2016-02-10/tweets.1455062401735.tmp\n",
      "download: s3://opi-hdfs/raw/tweets/2016-02-10/tweets.1455122412183 to febrero/2016-02-10/tweets.1455122412183\n",
      "download: s3://opi-hdfs/raw/tweets/2016-02-11/tweets.1455148800223 to febrero/2016-02-11/tweets.1455148800223\n",
      "download: s3://opi-hdfs/raw/tweets/2016-02-11/tweets.1455208816204 to febrero/2016-02-11/tweets.1455208816204\n",
      "download: s3://opi-hdfs/raw/tweets/2016-02-12/tweets.1455235200852 to febrero/2016-02-12/tweets.1455235200852\n",
      "download: s3://opi-hdfs/raw/tweets/2016-02-12/tweets.1455295214932 to febrero/2016-02-12/tweets.1455295214932\n",
      "download: s3://opi-hdfs/raw/tweets/2016-02-13/tweets.1455321600460.tmp to febrero/2016-02-13/tweets.1455321600460.tmp\n",
      "download: s3://opi-hdfs/raw/tweets/2016-02-13/tweets.1455381611333 to febrero/2016-02-13/tweets.1455381611333\n",
      "download: s3://opi-hdfs/raw/tweets/2016-02-14/tweets.1455408003000.tmp to febrero/2016-02-14/tweets.1455408003000.tmp\n",
      "download: s3://opi-hdfs/raw/tweets/2016-02-14/tweets.1455468013367 to febrero/2016-02-14/tweets.1455468013367\n",
      "download: s3://opi-hdfs/raw/tweets/2016-02-15/tweets.1455494402643.tmp to febrero/2016-02-15/tweets.1455494402643.tmp\n",
      "download: s3://opi-hdfs/raw/tweets/2016-02-15/tweets.1455554412975 to febrero/2016-02-15/tweets.1455554412975\n",
      "download: s3://opi-hdfs/raw/tweets/2016-02-16/tweets.1455580802026.tmp to febrero/2016-02-16/tweets.1455580802026.tmp\n",
      "download: s3://opi-hdfs/raw/tweets/2016-02-16/tweets.1455640812201 to febrero/2016-02-16/tweets.1455640812201\n",
      "download: s3://opi-hdfs/raw/tweets/2016-02-17/tweets.1455667200228.tmp to febrero/2016-02-17/tweets.1455667200228.tmp\n",
      "download: s3://opi-hdfs/raw/tweets/2016-02-17/tweets.1455727210564 to febrero/2016-02-17/tweets.1455727210564\n",
      "download: s3://opi-hdfs/raw/tweets/2016-02-18/tweets.1455753602872.tmp to febrero/2016-02-18/tweets.1455753602872.tmp\n",
      "download: s3://opi-hdfs/raw/tweets/2016-02-18/tweets.1455813613280 to febrero/2016-02-18/tweets.1455813613280\n",
      "download: s3://opi-hdfs/raw/tweets/2016-02-19/tweets.1455840002664 to febrero/2016-02-19/tweets.1455840002664\n",
      "download: s3://opi-hdfs/raw/tweets/2016-02-19/tweets.1455900022231 to febrero/2016-02-19/tweets.1455900022231\n",
      "download: s3://opi-hdfs/raw/tweets/2016-02-20/tweets.1455926402101 to febrero/2016-02-20/tweets.1455926402101\n",
      "download: s3://opi-hdfs/raw/tweets/2016-02-20/tweets.1455986417190 to febrero/2016-02-20/tweets.1455986417190\n",
      "download: s3://opi-hdfs/raw/tweets/2016-02-21/tweets.1456012801607 to febrero/2016-02-21/tweets.1456012801607\n",
      "download: s3://opi-hdfs/raw/tweets/2016-02-21/tweets.1456072818074 to febrero/2016-02-21/tweets.1456072818074\n",
      "download: s3://opi-hdfs/raw/tweets/2016-02-22/tweets.1456099200167 to febrero/2016-02-22/tweets.1456099200167\n",
      "download: s3://opi-hdfs/raw/tweets/2016-02-22/tweets.1456159216761 to febrero/2016-02-22/tweets.1456159216761\n",
      "download: s3://opi-hdfs/raw/tweets/2016-02-23/tweets.1456185600033.tmp to febrero/2016-02-23/tweets.1456185600033.tmp\n",
      "download: s3://opi-hdfs/raw/tweets/2016-02-23/tweets.1456245610507 to febrero/2016-02-23/tweets.1456245610507\n",
      "download: s3://opi-hdfs/raw/tweets/2016-02-24/tweets.1456272002378.tmp to febrero/2016-02-24/tweets.1456272002378.tmp\n",
      "download: s3://opi-hdfs/raw/tweets/2016-02-24/tweets.1456332012833 to febrero/2016-02-24/tweets.1456332012833\n",
      "download: s3://opi-hdfs/raw/tweets/2016-02-25/tweets.1456358401871.tmp to febrero/2016-02-25/tweets.1456358401871.tmp\n",
      "download: s3://opi-hdfs/raw/tweets/2016-02-25/tweets.1456418412373 to febrero/2016-02-25/tweets.1456418412373\n",
      "download: s3://opi-hdfs/raw/tweets/2016-02-26/tweets.1456444801492 to febrero/2016-02-26/tweets.1456444801492\n",
      "download: s3://opi-hdfs/raw/tweets/2016-02-26/tweets.1456504817374 to febrero/2016-02-26/tweets.1456504817374\n",
      "download: s3://opi-hdfs/raw/tweets/2016-02-27/tweets.1456531201730.tmp to febrero/2016-02-27/tweets.1456531201730.tmp\n",
      "download: s3://opi-hdfs/raw/tweets/2016-02-27/tweets.1456591212128 to febrero/2016-02-27/tweets.1456591212128\n",
      "download: s3://opi-hdfs/raw/tweets/2016-02-28/tweets.1456617601678.tmp to febrero/2016-02-28/tweets.1456617601678.tmp\n",
      "download: s3://opi-hdfs/raw/tweets/2016-02-28/tweets.1456677611972 to febrero/2016-02-28/tweets.1456677611972\n",
      "download: s3://opi-hdfs/raw/tweets/2016-02-29/tweets.1456704001485.tmp to febrero/2016-02-29/tweets.1456704001485.tmp\n",
      "download: s3://opi-hdfs/raw/tweets/2016-02-29/tweets.1456764012000 to febrero/2016-02-29/tweets.1456764012000\n",
      "\n"
     ]
    }
   ],
   "source": [
    "! aws s3 cp \"s3://tweets/\" ./febrero --recursive --exclude=\"*\" --include=\"2016-02-*\""
   ]
  },
  {
   "cell_type": "code",
   "execution_count": 6,
   "metadata": {
    "collapsed": true
   },
   "outputs": [],
   "source": [
    "log_raw = sc.textFile(\"./marzo/2016-03-01/*\")"
   ]
  },
  {
   "cell_type": "code",
   "execution_count": 35,
   "metadata": {
    "collapsed": true
   },
   "outputs": [],
   "source": [
    "log_raw_hive = sqlContext.read.json(\"./marzo/2016-03-01/*\")"
   ]
  },
  {
   "cell_type": "code",
   "execution_count": 37,
   "metadata": {
    "collapsed": false
   },
   "outputs": [
    {
     "data": {
      "text/plain": [
       "133249"
      ]
     },
     "execution_count": 37,
     "metadata": {},
     "output_type": "execute_result"
    }
   ],
   "source": [
    "log_raw_hive.count()"
   ]
  },
  {
   "cell_type": "code",
   "execution_count": 39,
   "metadata": {
    "collapsed": false,
    "scrolled": true
   },
   "outputs": [
    {
     "name": "stdout",
     "output_type": "stream",
     "text": [
      "root\n",
      " |-- contributors: string (nullable = true)\n",
      " |-- coordinates: struct (nullable = true)\n",
      " |    |-- coordinates: array (nullable = true)\n",
      " |    |    |-- element: double (containsNull = true)\n",
      " |    |-- type: string (nullable = true)\n",
      " |-- created_at: string (nullable = true)\n",
      " |-- entities: struct (nullable = true)\n",
      " |    |-- hashtags: array (nullable = true)\n",
      " |    |    |-- element: struct (containsNull = true)\n",
      " |    |    |    |-- indices: array (nullable = true)\n",
      " |    |    |    |    |-- element: long (containsNull = true)\n",
      " |    |    |    |-- text: string (nullable = true)\n",
      " |    |-- media: array (nullable = true)\n",
      " |    |    |-- element: struct (containsNull = true)\n",
      " |    |    |    |-- display_url: string (nullable = true)\n",
      " |    |    |    |-- expanded_url: string (nullable = true)\n",
      " |    |    |    |-- id: long (nullable = true)\n",
      " |    |    |    |-- id_str: string (nullable = true)\n",
      " |    |    |    |-- indices: array (nullable = true)\n",
      " |    |    |    |    |-- element: long (containsNull = true)\n",
      " |    |    |    |-- media_url: string (nullable = true)\n",
      " |    |    |    |-- media_url_https: string (nullable = true)\n",
      " |    |    |    |-- sizes: struct (nullable = true)\n",
      " |    |    |    |    |-- large: struct (nullable = true)\n",
      " |    |    |    |    |    |-- h: long (nullable = true)\n",
      " |    |    |    |    |    |-- resize: string (nullable = true)\n",
      " |    |    |    |    |    |-- w: long (nullable = true)\n",
      " |    |    |    |    |-- medium: struct (nullable = true)\n",
      " |    |    |    |    |    |-- h: long (nullable = true)\n",
      " |    |    |    |    |    |-- resize: string (nullable = true)\n",
      " |    |    |    |    |    |-- w: long (nullable = true)\n",
      " |    |    |    |    |-- small: struct (nullable = true)\n",
      " |    |    |    |    |    |-- h: long (nullable = true)\n",
      " |    |    |    |    |    |-- resize: string (nullable = true)\n",
      " |    |    |    |    |    |-- w: long (nullable = true)\n",
      " |    |    |    |    |-- thumb: struct (nullable = true)\n",
      " |    |    |    |    |    |-- h: long (nullable = true)\n",
      " |    |    |    |    |    |-- resize: string (nullable = true)\n",
      " |    |    |    |    |    |-- w: long (nullable = true)\n",
      " |    |    |    |-- source_status_id: long (nullable = true)\n",
      " |    |    |    |-- source_status_id_str: string (nullable = true)\n",
      " |    |    |    |-- source_user_id: long (nullable = true)\n",
      " |    |    |    |-- source_user_id_str: string (nullable = true)\n",
      " |    |    |    |-- type: string (nullable = true)\n",
      " |    |    |    |-- url: string (nullable = true)\n",
      " |    |-- symbols: array (nullable = true)\n",
      " |    |    |-- element: struct (containsNull = true)\n",
      " |    |    |    |-- indices: array (nullable = true)\n",
      " |    |    |    |    |-- element: long (containsNull = true)\n",
      " |    |    |    |-- text: string (nullable = true)\n",
      " |    |-- urls: array (nullable = true)\n",
      " |    |    |-- element: struct (containsNull = true)\n",
      " |    |    |    |-- display_url: string (nullable = true)\n",
      " |    |    |    |-- expanded_url: string (nullable = true)\n",
      " |    |    |    |-- indices: array (nullable = true)\n",
      " |    |    |    |    |-- element: long (containsNull = true)\n",
      " |    |    |    |-- url: string (nullable = true)\n",
      " |    |-- user_mentions: array (nullable = true)\n",
      " |    |    |-- element: struct (containsNull = true)\n",
      " |    |    |    |-- id: long (nullable = true)\n",
      " |    |    |    |-- id_str: string (nullable = true)\n",
      " |    |    |    |-- indices: array (nullable = true)\n",
      " |    |    |    |    |-- element: long (containsNull = true)\n",
      " |    |    |    |-- name: string (nullable = true)\n",
      " |    |    |    |-- screen_name: string (nullable = true)\n",
      " |-- extended_entities: struct (nullable = true)\n",
      " |    |-- media: array (nullable = true)\n",
      " |    |    |-- element: struct (containsNull = true)\n",
      " |    |    |    |-- display_url: string (nullable = true)\n",
      " |    |    |    |-- expanded_url: string (nullable = true)\n",
      " |    |    |    |-- id: long (nullable = true)\n",
      " |    |    |    |-- id_str: string (nullable = true)\n",
      " |    |    |    |-- indices: array (nullable = true)\n",
      " |    |    |    |    |-- element: long (containsNull = true)\n",
      " |    |    |    |-- media_url: string (nullable = true)\n",
      " |    |    |    |-- media_url_https: string (nullable = true)\n",
      " |    |    |    |-- sizes: struct (nullable = true)\n",
      " |    |    |    |    |-- large: struct (nullable = true)\n",
      " |    |    |    |    |    |-- h: long (nullable = true)\n",
      " |    |    |    |    |    |-- resize: string (nullable = true)\n",
      " |    |    |    |    |    |-- w: long (nullable = true)\n",
      " |    |    |    |    |-- medium: struct (nullable = true)\n",
      " |    |    |    |    |    |-- h: long (nullable = true)\n",
      " |    |    |    |    |    |-- resize: string (nullable = true)\n",
      " |    |    |    |    |    |-- w: long (nullable = true)\n",
      " |    |    |    |    |-- small: struct (nullable = true)\n",
      " |    |    |    |    |    |-- h: long (nullable = true)\n",
      " |    |    |    |    |    |-- resize: string (nullable = true)\n",
      " |    |    |    |    |    |-- w: long (nullable = true)\n",
      " |    |    |    |    |-- thumb: struct (nullable = true)\n",
      " |    |    |    |    |    |-- h: long (nullable = true)\n",
      " |    |    |    |    |    |-- resize: string (nullable = true)\n",
      " |    |    |    |    |    |-- w: long (nullable = true)\n",
      " |    |    |    |-- source_status_id: long (nullable = true)\n",
      " |    |    |    |-- source_status_id_str: string (nullable = true)\n",
      " |    |    |    |-- source_user_id: long (nullable = true)\n",
      " |    |    |    |-- source_user_id_str: string (nullable = true)\n",
      " |    |    |    |-- type: string (nullable = true)\n",
      " |    |    |    |-- url: string (nullable = true)\n",
      " |    |    |    |-- video_info: struct (nullable = true)\n",
      " |    |    |    |    |-- aspect_ratio: array (nullable = true)\n",
      " |    |    |    |    |    |-- element: long (containsNull = true)\n",
      " |    |    |    |    |-- duration_millis: long (nullable = true)\n",
      " |    |    |    |    |-- variants: array (nullable = true)\n",
      " |    |    |    |    |    |-- element: struct (containsNull = true)\n",
      " |    |    |    |    |    |    |-- bitrate: long (nullable = true)\n",
      " |    |    |    |    |    |    |-- content_type: string (nullable = true)\n",
      " |    |    |    |    |    |    |-- url: string (nullable = true)\n",
      " |-- favorite_count: long (nullable = true)\n",
      " |-- favorited: boolean (nullable = true)\n",
      " |-- filter_level: string (nullable = true)\n",
      " |-- geo: struct (nullable = true)\n",
      " |    |-- coordinates: array (nullable = true)\n",
      " |    |    |-- element: double (containsNull = true)\n",
      " |    |-- type: string (nullable = true)\n",
      " |-- id: long (nullable = true)\n",
      " |-- id_str: string (nullable = true)\n",
      " |-- in_reply_to_screen_name: string (nullable = true)\n",
      " |-- in_reply_to_status_id: long (nullable = true)\n",
      " |-- in_reply_to_status_id_str: string (nullable = true)\n",
      " |-- in_reply_to_user_id: long (nullable = true)\n",
      " |-- in_reply_to_user_id_str: string (nullable = true)\n",
      " |-- is_quote_status: boolean (nullable = true)\n",
      " |-- lang: string (nullable = true)\n",
      " |-- place: struct (nullable = true)\n",
      " |    |-- bounding_box: struct (nullable = true)\n",
      " |    |    |-- coordinates: array (nullable = true)\n",
      " |    |    |    |-- element: array (containsNull = true)\n",
      " |    |    |    |    |-- element: array (containsNull = true)\n",
      " |    |    |    |    |    |-- element: double (containsNull = true)\n",
      " |    |    |-- type: string (nullable = true)\n",
      " |    |-- country: string (nullable = true)\n",
      " |    |-- country_code: string (nullable = true)\n",
      " |    |-- full_name: string (nullable = true)\n",
      " |    |-- id: string (nullable = true)\n",
      " |    |-- name: string (nullable = true)\n",
      " |    |-- place_type: string (nullable = true)\n",
      " |    |-- url: string (nullable = true)\n",
      " |-- possibly_sensitive: boolean (nullable = true)\n",
      " |-- quoted_status: struct (nullable = true)\n",
      " |    |-- contributors: string (nullable = true)\n",
      " |    |-- coordinates: struct (nullable = true)\n",
      " |    |    |-- coordinates: array (nullable = true)\n",
      " |    |    |    |-- element: double (containsNull = true)\n",
      " |    |    |-- type: string (nullable = true)\n",
      " |    |-- created_at: string (nullable = true)\n",
      " |    |-- entities: struct (nullable = true)\n",
      " |    |    |-- hashtags: array (nullable = true)\n",
      " |    |    |    |-- element: struct (containsNull = true)\n",
      " |    |    |    |    |-- indices: array (nullable = true)\n",
      " |    |    |    |    |    |-- element: long (containsNull = true)\n",
      " |    |    |    |    |-- text: string (nullable = true)\n",
      " |    |    |-- media: array (nullable = true)\n",
      " |    |    |    |-- element: struct (containsNull = true)\n",
      " |    |    |    |    |-- display_url: string (nullable = true)\n",
      " |    |    |    |    |-- expanded_url: string (nullable = true)\n",
      " |    |    |    |    |-- id: long (nullable = true)\n",
      " |    |    |    |    |-- id_str: string (nullable = true)\n",
      " |    |    |    |    |-- indices: array (nullable = true)\n",
      " |    |    |    |    |    |-- element: long (containsNull = true)\n",
      " |    |    |    |    |-- media_url: string (nullable = true)\n",
      " |    |    |    |    |-- media_url_https: string (nullable = true)\n",
      " |    |    |    |    |-- sizes: struct (nullable = true)\n",
      " |    |    |    |    |    |-- large: struct (nullable = true)\n",
      " |    |    |    |    |    |    |-- h: long (nullable = true)\n",
      " |    |    |    |    |    |    |-- resize: string (nullable = true)\n",
      " |    |    |    |    |    |    |-- w: long (nullable = true)\n",
      " |    |    |    |    |    |-- medium: struct (nullable = true)\n",
      " |    |    |    |    |    |    |-- h: long (nullable = true)\n",
      " |    |    |    |    |    |    |-- resize: string (nullable = true)\n",
      " |    |    |    |    |    |    |-- w: long (nullable = true)\n",
      " |    |    |    |    |    |-- small: struct (nullable = true)\n",
      " |    |    |    |    |    |    |-- h: long (nullable = true)\n",
      " |    |    |    |    |    |    |-- resize: string (nullable = true)\n",
      " |    |    |    |    |    |    |-- w: long (nullable = true)\n",
      " |    |    |    |    |    |-- thumb: struct (nullable = true)\n",
      " |    |    |    |    |    |    |-- h: long (nullable = true)\n",
      " |    |    |    |    |    |    |-- resize: string (nullable = true)\n",
      " |    |    |    |    |    |    |-- w: long (nullable = true)\n",
      " |    |    |    |    |-- source_status_id: long (nullable = true)\n",
      " |    |    |    |    |-- source_status_id_str: string (nullable = true)\n",
      " |    |    |    |    |-- source_user_id: long (nullable = true)\n",
      " |    |    |    |    |-- source_user_id_str: string (nullable = true)\n",
      " |    |    |    |    |-- type: string (nullable = true)\n",
      " |    |    |    |    |-- url: string (nullable = true)\n",
      " |    |    |-- symbols: array (nullable = true)\n",
      " |    |    |    |-- element: string (containsNull = true)\n",
      " |    |    |-- urls: array (nullable = true)\n",
      " |    |    |    |-- element: struct (containsNull = true)\n",
      " |    |    |    |    |-- display_url: string (nullable = true)\n",
      " |    |    |    |    |-- expanded_url: string (nullable = true)\n",
      " |    |    |    |    |-- indices: array (nullable = true)\n",
      " |    |    |    |    |    |-- element: long (containsNull = true)\n",
      " |    |    |    |    |-- url: string (nullable = true)\n",
      " |    |    |-- user_mentions: array (nullable = true)\n",
      " |    |    |    |-- element: struct (containsNull = true)\n",
      " |    |    |    |    |-- id: long (nullable = true)\n",
      " |    |    |    |    |-- id_str: string (nullable = true)\n",
      " |    |    |    |    |-- indices: array (nullable = true)\n",
      " |    |    |    |    |    |-- element: long (containsNull = true)\n",
      " |    |    |    |    |-- name: string (nullable = true)\n",
      " |    |    |    |    |-- screen_name: string (nullable = true)\n",
      " |    |-- extended_entities: struct (nullable = true)\n",
      " |    |    |-- media: array (nullable = true)\n",
      " |    |    |    |-- element: struct (containsNull = true)\n",
      " |    |    |    |    |-- display_url: string (nullable = true)\n",
      " |    |    |    |    |-- expanded_url: string (nullable = true)\n",
      " |    |    |    |    |-- id: long (nullable = true)\n",
      " |    |    |    |    |-- id_str: string (nullable = true)\n",
      " |    |    |    |    |-- indices: array (nullable = true)\n",
      " |    |    |    |    |    |-- element: long (containsNull = true)\n",
      " |    |    |    |    |-- media_url: string (nullable = true)\n",
      " |    |    |    |    |-- media_url_https: string (nullable = true)\n",
      " |    |    |    |    |-- sizes: struct (nullable = true)\n",
      " |    |    |    |    |    |-- large: struct (nullable = true)\n",
      " |    |    |    |    |    |    |-- h: long (nullable = true)\n",
      " |    |    |    |    |    |    |-- resize: string (nullable = true)\n",
      " |    |    |    |    |    |    |-- w: long (nullable = true)\n",
      " |    |    |    |    |    |-- medium: struct (nullable = true)\n",
      " |    |    |    |    |    |    |-- h: long (nullable = true)\n",
      " |    |    |    |    |    |    |-- resize: string (nullable = true)\n",
      " |    |    |    |    |    |    |-- w: long (nullable = true)\n",
      " |    |    |    |    |    |-- small: struct (nullable = true)\n",
      " |    |    |    |    |    |    |-- h: long (nullable = true)\n",
      " |    |    |    |    |    |    |-- resize: string (nullable = true)\n",
      " |    |    |    |    |    |    |-- w: long (nullable = true)\n",
      " |    |    |    |    |    |-- thumb: struct (nullable = true)\n",
      " |    |    |    |    |    |    |-- h: long (nullable = true)\n",
      " |    |    |    |    |    |    |-- resize: string (nullable = true)\n",
      " |    |    |    |    |    |    |-- w: long (nullable = true)\n",
      " |    |    |    |    |-- source_status_id: long (nullable = true)\n",
      " |    |    |    |    |-- source_status_id_str: string (nullable = true)\n",
      " |    |    |    |    |-- source_user_id: long (nullable = true)\n",
      " |    |    |    |    |-- source_user_id_str: string (nullable = true)\n",
      " |    |    |    |    |-- type: string (nullable = true)\n",
      " |    |    |    |    |-- url: string (nullable = true)\n",
      " |    |    |    |    |-- video_info: struct (nullable = true)\n",
      " |    |    |    |    |    |-- aspect_ratio: array (nullable = true)\n",
      " |    |    |    |    |    |    |-- element: long (containsNull = true)\n",
      " |    |    |    |    |    |-- duration_millis: long (nullable = true)\n",
      " |    |    |    |    |    |-- variants: array (nullable = true)\n",
      " |    |    |    |    |    |    |-- element: struct (containsNull = true)\n",
      " |    |    |    |    |    |    |    |-- bitrate: long (nullable = true)\n",
      " |    |    |    |    |    |    |    |-- content_type: string (nullable = true)\n",
      " |    |    |    |    |    |    |    |-- url: string (nullable = true)\n",
      " |    |-- favorite_count: long (nullable = true)\n",
      " |    |-- favorited: boolean (nullable = true)\n",
      " |    |-- filter_level: string (nullable = true)\n",
      " |    |-- geo: struct (nullable = true)\n",
      " |    |    |-- coordinates: array (nullable = true)\n",
      " |    |    |    |-- element: double (containsNull = true)\n",
      " |    |    |-- type: string (nullable = true)\n",
      " |    |-- id: long (nullable = true)\n",
      " |    |-- id_str: string (nullable = true)\n",
      " |    |-- in_reply_to_screen_name: string (nullable = true)\n",
      " |    |-- in_reply_to_status_id: long (nullable = true)\n",
      " |    |-- in_reply_to_status_id_str: string (nullable = true)\n",
      " |    |-- in_reply_to_user_id: long (nullable = true)\n",
      " |    |-- in_reply_to_user_id_str: string (nullable = true)\n",
      " |    |-- is_quote_status: boolean (nullable = true)\n",
      " |    |-- lang: string (nullable = true)\n",
      " |    |-- place: string (nullable = true)\n",
      " |    |-- possibly_sensitive: boolean (nullable = true)\n",
      " |    |-- quoted_status_id: long (nullable = true)\n",
      " |    |-- quoted_status_id_str: string (nullable = true)\n",
      " |    |-- retweet_count: long (nullable = true)\n",
      " |    |-- retweeted: boolean (nullable = true)\n",
      " |    |-- scopes: struct (nullable = true)\n",
      " |    |    |-- followers: boolean (nullable = true)\n",
      " |    |    |-- place_ids: array (nullable = true)\n",
      " |    |    |    |-- element: string (containsNull = true)\n",
      " |    |-- source: string (nullable = true)\n",
      " |    |-- text: string (nullable = true)\n",
      " |    |-- truncated: boolean (nullable = true)\n",
      " |    |-- user: struct (nullable = true)\n",
      " |    |    |-- contributors_enabled: boolean (nullable = true)\n",
      " |    |    |-- created_at: string (nullable = true)\n",
      " |    |    |-- default_profile: boolean (nullable = true)\n",
      " |    |    |-- default_profile_image: boolean (nullable = true)\n",
      " |    |    |-- description: string (nullable = true)\n",
      " |    |    |-- favourites_count: long (nullable = true)\n",
      " |    |    |-- follow_request_sent: string (nullable = true)\n",
      " |    |    |-- followers_count: long (nullable = true)\n",
      " |    |    |-- following: string (nullable = true)\n",
      " |    |    |-- friends_count: long (nullable = true)\n",
      " |    |    |-- geo_enabled: boolean (nullable = true)\n",
      " |    |    |-- id: long (nullable = true)\n",
      " |    |    |-- id_str: string (nullable = true)\n",
      " |    |    |-- is_translator: boolean (nullable = true)\n",
      " |    |    |-- lang: string (nullable = true)\n",
      " |    |    |-- listed_count: long (nullable = true)\n",
      " |    |    |-- location: string (nullable = true)\n",
      " |    |    |-- name: string (nullable = true)\n",
      " |    |    |-- notifications: string (nullable = true)\n",
      " |    |    |-- profile_background_color: string (nullable = true)\n",
      " |    |    |-- profile_background_image_url: string (nullable = true)\n",
      " |    |    |-- profile_background_image_url_https: string (nullable = true)\n",
      " |    |    |-- profile_background_tile: boolean (nullable = true)\n",
      " |    |    |-- profile_banner_url: string (nullable = true)\n",
      " |    |    |-- profile_image_url: string (nullable = true)\n",
      " |    |    |-- profile_image_url_https: string (nullable = true)\n",
      " |    |    |-- profile_link_color: string (nullable = true)\n",
      " |    |    |-- profile_sidebar_border_color: string (nullable = true)\n",
      " |    |    |-- profile_sidebar_fill_color: string (nullable = true)\n",
      " |    |    |-- profile_text_color: string (nullable = true)\n",
      " |    |    |-- profile_use_background_image: boolean (nullable = true)\n",
      " |    |    |-- protected: boolean (nullable = true)\n",
      " |    |    |-- screen_name: string (nullable = true)\n",
      " |    |    |-- statuses_count: long (nullable = true)\n",
      " |    |    |-- time_zone: string (nullable = true)\n",
      " |    |    |-- url: string (nullable = true)\n",
      " |    |    |-- utc_offset: long (nullable = true)\n",
      " |    |    |-- verified: boolean (nullable = true)\n",
      " |-- quoted_status_id: long (nullable = true)\n",
      " |-- quoted_status_id_str: string (nullable = true)\n",
      " |-- retweet_count: long (nullable = true)\n",
      " |-- retweeted: boolean (nullable = true)\n",
      " |-- scopes: struct (nullable = true)\n",
      " |    |-- place_ids: array (nullable = true)\n",
      " |    |    |-- element: string (containsNull = true)\n",
      " |-- source: string (nullable = true)\n",
      " |-- text: string (nullable = true)\n",
      " |-- timestamp_ms: string (nullable = true)\n",
      " |-- truncated: boolean (nullable = true)\n",
      " |-- user: struct (nullable = true)\n",
      " |    |-- contributors_enabled: boolean (nullable = true)\n",
      " |    |-- created_at: string (nullable = true)\n",
      " |    |-- default_profile: boolean (nullable = true)\n",
      " |    |-- default_profile_image: boolean (nullable = true)\n",
      " |    |-- description: string (nullable = true)\n",
      " |    |-- favourites_count: long (nullable = true)\n",
      " |    |-- follow_request_sent: string (nullable = true)\n",
      " |    |-- followers_count: long (nullable = true)\n",
      " |    |-- following: string (nullable = true)\n",
      " |    |-- friends_count: long (nullable = true)\n",
      " |    |-- geo_enabled: boolean (nullable = true)\n",
      " |    |-- id: long (nullable = true)\n",
      " |    |-- id_str: string (nullable = true)\n",
      " |    |-- is_translator: boolean (nullable = true)\n",
      " |    |-- lang: string (nullable = true)\n",
      " |    |-- listed_count: long (nullable = true)\n",
      " |    |-- location: string (nullable = true)\n",
      " |    |-- name: string (nullable = true)\n",
      " |    |-- notifications: string (nullable = true)\n",
      " |    |-- profile_background_color: string (nullable = true)\n",
      " |    |-- profile_background_image_url: string (nullable = true)\n",
      " |    |-- profile_background_image_url_https: string (nullable = true)\n",
      " |    |-- profile_background_tile: boolean (nullable = true)\n",
      " |    |-- profile_banner_url: string (nullable = true)\n",
      " |    |-- profile_image_url: string (nullable = true)\n",
      " |    |-- profile_image_url_https: string (nullable = true)\n",
      " |    |-- profile_link_color: string (nullable = true)\n",
      " |    |-- profile_sidebar_border_color: string (nullable = true)\n",
      " |    |-- profile_sidebar_fill_color: string (nullable = true)\n",
      " |    |-- profile_text_color: string (nullable = true)\n",
      " |    |-- profile_use_background_image: boolean (nullable = true)\n",
      " |    |-- protected: boolean (nullable = true)\n",
      " |    |-- screen_name: string (nullable = true)\n",
      " |    |-- statuses_count: long (nullable = true)\n",
      " |    |-- time_zone: string (nullable = true)\n",
      " |    |-- url: string (nullable = true)\n",
      " |    |-- utc_offset: long (nullable = true)\n",
      " |    |-- verified: boolean (nullable = true)\n",
      "\n"
     ]
    }
   ],
   "source": [
    "log_raw_hive.printSchema()"
   ]
  },
  {
   "cell_type": "code",
   "execution_count": 40,
   "metadata": {
    "collapsed": false
   },
   "outputs": [],
   "source": [
    "log_raw_hive.registerTempTable('txs')\n",
    "#sqlContext.sql(\"select * from \")"
   ]
  },
  {
   "cell_type": "code",
   "execution_count": 52,
   "metadata": {
    "collapsed": false
   },
   "outputs": [
    {
     "name": "stdout",
     "output_type": "stream",
     "text": [
      "+--------------------+--------------------+-------+\n",
      "|            col_name|           data_type|comment|\n",
      "+--------------------+--------------------+-------+\n",
      "|        contributors|              string|       |\n",
      "|         coordinates|struct<coordinate...|       |\n",
      "|          created_at|              string|       |\n",
      "|            entities|struct<hashtags:a...|       |\n",
      "|   extended_entities|struct<media:arra...|       |\n",
      "|      favorite_count|              bigint|       |\n",
      "|           favorited|             boolean|       |\n",
      "|        filter_level|              string|       |\n",
      "|                 geo|struct<coordinate...|       |\n",
      "|                  id|              bigint|       |\n",
      "|              id_str|              string|       |\n",
      "|in_reply_to_scree...|              string|       |\n",
      "|in_reply_to_statu...|              bigint|       |\n",
      "|in_reply_to_statu...|              string|       |\n",
      "| in_reply_to_user_id|              bigint|       |\n",
      "|in_reply_to_user_...|              string|       |\n",
      "|     is_quote_status|             boolean|       |\n",
      "|                lang|              string|       |\n",
      "|               place|struct<bounding_b...|       |\n",
      "|  possibly_sensitive|             boolean|       |\n",
      "+--------------------+--------------------+-------+\n",
      "only showing top 20 rows\n",
      "\n"
     ]
    }
   ],
   "source": [
    "sqlContext.sql(\"describe txs\").show()"
   ]
  },
  {
   "cell_type": "code",
   "execution_count": 58,
   "metadata": {
    "collapsed": false
   },
   "outputs": [
    {
     "name": "stdout",
     "output_type": "stream",
     "text": [
      "+------------------+--------------------+\n",
      "|                id|         coordinates|\n",
      "+------------------+--------------------+\n",
      "|704455835645153280|[25.4336309, -100...|\n",
      "+------------------+--------------------+\n",
      "\n"
     ]
    }
   ],
   "source": [
    "sqlContext.sql(\"select id, geo.coordinates from txs where geo is not null limit 1\").show()"
   ]
  },
  {
   "cell_type": "code",
   "execution_count": 59,
   "metadata": {
    "collapsed": false
   },
   "outputs": [
    {
     "name": "stdout",
     "output_type": "stream",
     "text": [
      "+-----+\n",
      "|  _c0|\n",
      "+-----+\n",
      "|22509|\n",
      "+-----+\n",
      "\n"
     ]
    }
   ],
   "source": [
    "sqlContext.sql(\"select count(*) from txs where geo is not null\").show()"
   ]
  },
  {
   "cell_type": "code",
   "execution_count": 62,
   "metadata": {
    "collapsed": false
   },
   "outputs": [
    {
     "name": "stdout",
     "output_type": "stream",
     "text": [
      "+------+\n",
      "|   _c0|\n",
      "+------+\n",
      "|133249|\n",
      "+------+\n",
      "\n"
     ]
    }
   ],
   "source": [
    "sqlContext.sql(\"select count(*) from txs\").show()"
   ]
  },
  {
   "cell_type": "code",
   "execution_count": 63,
   "metadata": {
    "collapsed": false
   },
   "outputs": [
    {
     "name": "stdout",
     "output_type": "stream",
     "text": [
      "+-----+\n",
      "|  _c0|\n",
      "+-----+\n",
      "|22509|\n",
      "+-----+\n",
      "\n"
     ]
    }
   ],
   "source": [
    "sqlContext.sql(\"select count(*) from txs where coordinates is not null\").show()"
   ]
  },
  {
   "cell_type": "code",
   "execution_count": 67,
   "metadata": {
    "collapsed": false
   },
   "outputs": [
    {
     "name": "stdout",
     "output_type": "stream",
     "text": [
      "+------------------+----------+----------+\n",
      "|                id|       _c1|       _c2|\n",
      "+------------------+----------+----------+\n",
      "|704455835645153280|25.4336309|25.4336309|\n",
      "+------------------+----------+----------+\n",
      "\n"
     ]
    }
   ],
   "source": [
    "sqlContext.sql(\"select id, geo.coordinates[0], coordinates.coordinates[1] from txs where geo is not null limit 1\").show()"
   ]
  },
  {
   "cell_type": "code",
   "execution_count": 68,
   "metadata": {
    "collapsed": false
   },
   "outputs": [
    {
     "name": "stdout",
     "output_type": "stream",
     "text": [
      "+---+\n",
      "|_c0|\n",
      "+---+\n",
      "|  0|\n",
      "+---+\n",
      "\n"
     ]
    }
   ],
   "source": [
    "sqlContext.sql(\"select count(*) from txs where geo.coordinates[0]<>coordinates.coordinates[1]\").show()"
   ]
  },
  {
   "cell_type": "code",
   "execution_count": 69,
   "metadata": {
    "collapsed": false
   },
   "outputs": [
    {
     "name": "stdout",
     "output_type": "stream",
     "text": [
      "+---+\n",
      "|_c0|\n",
      "+---+\n",
      "|  0|\n",
      "+---+\n",
      "\n"
     ]
    }
   ],
   "source": [
    "sqlContext.sql(\"select count(*) from txs where geo.coordinates[1]<>coordinates.coordinates[0]\").show()"
   ]
  },
  {
   "cell_type": "code",
   "execution_count": 74,
   "metadata": {
    "collapsed": false
   },
   "outputs": [
    {
     "name": "stdout",
     "output_type": "stream",
     "text": [
      "+------------------+----------+------------+\n",
      "|                id|   latitud|    longitud|\n",
      "+------------------+----------+------------+\n",
      "|704455835645153280|25.4336309|-100.9980081|\n",
      "+------------------+----------+------------+\n",
      "\n"
     ]
    }
   ],
   "source": [
    "sqlContext.sql(\"select id,  coordinates.coordinates[1] as latitud ,coordinates.coordinates[0] as longitud \\\n",
    "               from txs where coordinates is not null limit 1\").show()"
   ]
  },
  {
   "cell_type": "code",
   "execution_count": 88,
   "metadata": {
    "collapsed": false
   },
   "outputs": [],
   "source": [
    "# No sabemos sobreescribir archivos. borramos todo.\n",
    "! rm -r prueba.csv\n",
    "sqlContext.sql(\"select id,  coordinates.coordinates[1] as latitud ,coordinates.coordinates[0] as longitud \\\n",
    "               from txs where coordinates is not null\")\\\n",
    "            .map(lambda x: \",\".join(map(str, x)))\\\n",
    "            .coalesce(1)\\\n",
    "            .saveAsTextFile(\"prueba.csv\")"
   ]
  },
  {
   "cell_type": "code",
   "execution_count": 3,
   "metadata": {
    "collapsed": true
   },
   "outputs": [],
   "source": [
    "log_raw_hive_total = sqlContext.read.json(\"./febrero/*\")"
   ]
  },
  {
   "cell_type": "code",
   "execution_count": 4,
   "metadata": {
    "collapsed": false
   },
   "outputs": [
    {
     "data": {
      "text/plain": [
       "Row(_corrupt_record=None, contributors=None, coordinates=None, created_at='Tue Feb 16 16:39:19 +0000 2016', entities=Row(hashtags=[Row(indices=[96, 103], text='Oaxaca'), Row(indices=[104, 115], text='twitteroax')], media=[Row(display_url='pic.twitter.com/Ge6PjAIMcA', expanded_url='http://twitter.com/CuartaPlana/status/699634169723383809/photo/1', id=699634168834097152, id_str='699634168834097152', indices=[116, 139], media_url='http://pbs.twimg.com/media/CbWZkdoVAAA6mWM.jpg', media_url_https='https://pbs.twimg.com/media/CbWZkdoVAAA6mWM.jpg', sizes=Row(large=Row(h=362, resize='fit', w=644), medium=Row(h=337, resize='fit', w=600), small=Row(h=191, resize='fit', w=340), thumb=Row(h=150, resize='crop', w=150)), source_status_id=None, source_status_id_str=None, source_user_id=None, source_user_id_str=None, type='photo', url='https://t.co/Ge6PjAIMcA')], symbols=[], urls=[Row(display_url='cuartaplana.com.mx/nota.php?n=8695', expanded_url='http://www.cuartaplana.com.mx/nota.php?n=8695', indices=[72, 95], url='https://t.co/r3pWGaZhz2')], user_mentions=[Row(id=100106087, id_str='100106087', indices=[0, 13], name='SAPAO', screen_name='SAPAO_GobOax')]), extended_entities=Row(media=[Row(display_url='pic.twitter.com/Ge6PjAIMcA', expanded_url='http://twitter.com/CuartaPlana/status/699634169723383809/photo/1', id=699634168834097152, id_str='699634168834097152', indices=[116, 139], media_url='http://pbs.twimg.com/media/CbWZkdoVAAA6mWM.jpg', media_url_https='https://pbs.twimg.com/media/CbWZkdoVAAA6mWM.jpg', sizes=Row(large=Row(h=362, resize='fit', w=644), medium=Row(h=337, resize='fit', w=600), small=Row(h=191, resize='fit', w=340), thumb=Row(h=150, resize='crop', w=150)), source_status_id=None, source_status_id_str=None, source_user_id=None, source_user_id_str=None, type='photo', url='https://t.co/Ge6PjAIMcA', video_info=None)]), favorite_count=0, favorited=False, filter_level='low', geo=None, id=699634169723383809, id_str='699634169723383809', in_reply_to_screen_name='SAPAO_GobOax', in_reply_to_status_id=None, in_reply_to_status_id_str=None, in_reply_to_user_id=100106087, in_reply_to_user_id_str='100106087', is_quote_status=False, lang='es', limit=None, place=Row(bounding_box=Row(coordinates=[[[-96.780697, 17.015437], [-96.780697, 17.165201], [-96.669308, 17.165201], [-96.669308, 17.015437]]], type='Polygon'), country='México', country_code='MX', full_name='Oaxaca de Juárez, Oaxaca', id='7c8adcd237ee0afb', name='Oaxaca de Juárez', place_type='city', url='https://api.twitter.com/1.1/geo/id/7c8adcd237ee0afb.json'), possibly_sensitive=False, quoted_status=None, quoted_status_id=None, quoted_status_id_str=None, retweet_count=0, retweeted=False, scopes=None, source='<a href=\"http://twitter.com\" rel=\"nofollow\">Twitter Web Client</a>', text='@SAPAO_GobOax informa: Suministro de agua para el 16 de febrero de 2016\\nhttps://t.co/r3pWGaZhz2 #Oaxaca #twitteroax https://t.co/Ge6PjAIMcA', timestamp_ms='1455640759293', truncated=False, user=Row(contributors_enabled=False, created_at='Wed Mar 19 03:08:56 +0000 2014', default_profile=True, default_profile_image=False, description='Medio de comunicación independiente', favourites_count=18, follow_request_sent=None, followers_count=2582, following=None, friends_count=461, geo_enabled=True, id=2397155820, id_str='2397155820', is_translator=False, lang='es', listed_count=29, location='Oaxaca, Oax.', name='CuartaPlana', notifications=None, profile_background_color='C0DEED', profile_background_image_url='http://abs.twimg.com/images/themes/theme1/bg.png', profile_background_image_url_https='https://abs.twimg.com/images/themes/theme1/bg.png', profile_background_tile=False, profile_banner_url='https://pbs.twimg.com/profile_banners/2397155820/1428978470', profile_image_url='http://pbs.twimg.com/profile_images/544969282027663360/FFxjsi_5_normal.jpeg', profile_image_url_https='https://pbs.twimg.com/profile_images/544969282027663360/FFxjsi_5_normal.jpeg', profile_link_color='0084B4', profile_sidebar_border_color='C0DEED', profile_sidebar_fill_color='DDEEF6', profile_text_color='333333', profile_use_background_image=True, protected=False, screen_name='CuartaPlana', statuses_count=8067, time_zone='Mexico City', url='http://www.cuartaplana.com', utc_offset=-21600, verified=False))"
      ]
     },
     "execution_count": 4,
     "metadata": {},
     "output_type": "execute_result"
    }
   ],
   "source": [
    "log_raw_hive_total.first()"
   ]
  },
  {
   "cell_type": "code",
   "execution_count": 7,
   "metadata": {
    "collapsed": false
   },
   "outputs": [
    {
     "data": {
      "text/plain": [
       "3738755"
      ]
     },
     "execution_count": 7,
     "metadata": {},
     "output_type": "execute_result"
    }
   ],
   "source": [
    "log_raw_hive_total.count()"
   ]
  },
  {
   "cell_type": "code",
   "execution_count": 5,
   "metadata": {
    "collapsed": true
   },
   "outputs": [],
   "source": [
    "log_raw_hive_total.registerTempTable('tweets')"
   ]
  },
  {
   "cell_type": "code",
   "execution_count": 6,
   "metadata": {
    "collapsed": false
   },
   "outputs": [],
   "source": [
    "#! rm -rf tweets_febrero\n",
    "sqlContext.sql(\"select id,  coordinates.coordinates[1] as latitud ,coordinates.coordinates[0] as longitud, \\\n",
    "            created_at from tweets where coordinates is not null\")\\\n",
    "            .map(lambda x: \",\".join(map(str, x)))\\\n",
    "            .coalesce(8)\\\n",
    "            .saveAsTextFile(\"tweets_febrero\")"
   ]
  },
  {
   "cell_type": "code",
   "execution_count": null,
   "metadata": {
    "collapsed": true
   },
   "outputs": [],
   "source": []
  }
 ],
 "metadata": {
  "kernelspec": {
   "display_name": "Python 3",
   "language": "python",
   "name": "python3"
  },
  "language_info": {
   "codemirror_mode": {
    "name": "ipython",
    "version": 3
   },
   "file_extension": ".py",
   "mimetype": "text/x-python",
   "name": "python",
   "nbconvert_exporter": "python",
   "pygments_lexer": "ipython3",
   "version": "3.5.1"
  }
 },
 "nbformat": 4,
 "nbformat_minor": 0
}
